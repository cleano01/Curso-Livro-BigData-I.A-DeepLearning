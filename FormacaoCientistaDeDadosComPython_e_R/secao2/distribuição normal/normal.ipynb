{
 "cells": [
  {
   "cell_type": "code",
   "execution_count": 1,
   "metadata": {},
   "outputs": [],
   "source": [
    "from scipy.stats import norm"
   ]
  },
  {
   "cell_type": "markdown",
   "metadata": {},
   "source": [
    "• Existe um conjunto de objetos em uma\n",
    "cesta, cujos pesos são normalmente\n",
    "distribuídos com média = 8 e desvio padrão\n",
    "igual a 2.\n",
    "\n",
    "\n",
    " 1. Qual a chance de se tirar um objeto\n",
    "pesando menos de 6 quilos?"
   ]
  },
  {
   "cell_type": "code",
   "execution_count": 8,
   "metadata": {},
   "outputs": [
    {
     "name": "stdout",
     "output_type": "stream",
     "text": [
      "15.865525393145708\n"
     ]
    }
   ],
   "source": [
    "#o valor que queremos retirar nesse caso < 6\n",
    "#média 8\n",
    "#desvio padrão 8\n",
    "\n",
    "quest_1 = norm.cdf(6, 8, 2)\n",
    "print(quest_1*100)"
   ]
  },
  {
   "cell_type": "markdown",
   "metadata": {},
   "source": [
    "2. Qual a probabilidade de tirar um objeto que o peso á maior que 6 quilos?"
   ]
  },
  {
   "cell_type": "code",
   "execution_count": 7,
   "metadata": {},
   "outputs": [
    {
     "name": "stdout",
     "output_type": "stream",
     "text": [
      "84.1344746068543\n"
     ]
    }
   ],
   "source": [
    "#o valor que queremos retirar nesse caso > 6\n",
    "#média 8\n",
    "#desvio padrão 8\n",
    "quest_2 = norm.sf(6, 8, 2)\n",
    "print(quest_2*100)"
   ]
  },
  {
   "cell_type": "markdown",
   "metadata": {},
   "source": [
    "3. Qual a probabilidade de tirar um objeto que o peso á menor que 6 quilos\n",
    "ou maior que 10 quilos?"
   ]
  },
  {
   "cell_type": "code",
   "execution_count": 6,
   "metadata": {},
   "outputs": [
    {
     "name": "stdout",
     "output_type": "stream",
     "text": [
      "31.731050786291416\n"
     ]
    }
   ],
   "source": [
    "#temos fazer o somatorio das probabilidades \n",
    "# OU siginfica somar\n",
    "\n",
    "menor_que_6 = norm.cdf(6, 8, 2)\n",
    "\n",
    "maior_que_10 = norm.sf(10, 8, 2)\n",
    "\n",
    "cal_final = menor_que_6 + maior_que_10\n",
    "\n",
    "print(cal_final*100)\n"
   ]
  },
  {
   "cell_type": "markdown",
   "metadata": {},
   "source": [
    "4.Qual a probabilidade de se tirar\n",
    "um objeto que tenha\n",
    "menos de 10 quilos e mais\n",
    "de 8 quilos?"
   ]
  },
  {
   "cell_type": "code",
   "execution_count": 12,
   "metadata": {},
   "outputs": [
    {
     "name": "stdout",
     "output_type": "stream",
     "text": [
      "68.26894921370858\n"
     ]
    }
   ],
   "source": [
    "#temos fazer subtração o  das probabilidades \n",
    "# E siginfica subtração\n",
    "\n",
    "menor_que_10 = norm.cdf(10, 8, 2)\n",
    "\n",
    "maior_que_8 = norm.sf(10, 8, 2)\n",
    "\n",
    "\n",
    "cal_final = menor_que_10 - maior_que_8\n",
    "\n",
    "print(cal_final*100)\n"
   ]
  },
  {
   "cell_type": "code",
   "execution_count": 2,
   "metadata": {},
   "outputs": [
    {
     "name": "stdout",
     "output_type": "stream",
     "text": [
      "69.87585599335601\n"
     ]
    }
   ],
   "source": [
    "#o valor que queremos retirar nesse caso < 6\n",
    "#média 8\n",
    "#desvio padrão 8\n",
    "\n",
    "quest_1 = norm.cdf(1500, 1250, 480)\n",
    "print(quest_1*100)"
   ]
  },
  {
   "cell_type": "code",
   "execution_count": null,
   "metadata": {},
   "outputs": [],
   "source": []
  }
 ],
 "metadata": {
  "kernelspec": {
   "display_name": "Python 3",
   "language": "python",
   "name": "python3"
  },
  "language_info": {
   "codemirror_mode": {
    "name": "ipython",
    "version": 3
   },
   "file_extension": ".py",
   "mimetype": "text/x-python",
   "name": "python",
   "nbconvert_exporter": "python",
   "pygments_lexer": "ipython3",
   "version": "3.6.8"
  }
 },
 "nbformat": 4,
 "nbformat_minor": 2
}
