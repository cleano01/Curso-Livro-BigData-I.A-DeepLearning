{
 "cells": [
  {
   "cell_type": "code",
   "execution_count": 2,
   "metadata": {},
   "outputs": [
    {
     "name": "stderr",
     "output_type": "stream",
     "text": [
      "/usr/lib/python3.6/importlib/_bootstrap.py:219: RuntimeWarning: numpy.ufunc size changed, may indicate binary incompatibility. Expected 192 from C header, got 216 from PyObject\n",
      "  return f(*args, **kwds)\n",
      "/usr/lib/python3.6/importlib/_bootstrap.py:219: RuntimeWarning: numpy.ufunc size changed, may indicate binary incompatibility. Expected 192 from C header, got 216 from PyObject\n",
      "  return f(*args, **kwds)\n"
     ]
    }
   ],
   "source": [
    "from scipy.stats import t"
   ]
  },
  {
   "cell_type": "raw",
   "metadata": {},
   "source": [
    "Uma pesquisa mostra que cientistas de\n",
    "dados ganham R$ 75,00 por hora. Uma\n",
    "amostra de 9 cientistas é selecionado é\n",
    "perguntado o salário. O desvio padrão da\n",
    "amostra é 10. Qual a probabilidade do salário\n",
    "ser menor que R$ 80 a hora?"
   ]
  },
  {
   "cell_type": "code",
   "execution_count": 3,
   "metadata": {},
   "outputs": [
    {
     "data": {
      "text/plain": [
       "0.9139983540240443"
      ]
     },
     "execution_count": 3,
     "metadata": {},
     "output_type": "execute_result"
    }
   ],
   "source": [
    "#valor 1.5, achamos fazendo as contas\n",
    "#8 grau da liberdade (9-1)\n",
    "\n",
    "t.cdf(1.5, 8)\n",
    "\n",
    "#pegamos a função cdf, pq estamos trabalhando com um valor menor, nesse caso a parte esqueda\n",
    "#do gráfico"
   ]
  },
  {
   "cell_type": "raw",
   "metadata": {},
   "source": [
    "Qual probabilidade do salário ser maior do que 80?"
   ]
  },
  {
   "cell_type": "code",
   "execution_count": 10,
   "metadata": {},
   "outputs": [
    {
     "name": "stdout",
     "output_type": "stream",
     "text": [
      "8.600164597595565\n"
     ]
    }
   ],
   "source": [
    "p = t.sf(1.5, 8)\n",
    "print(p*100)\n",
    "\n",
    "#pegamos a função sf, pq estamos trabalhando com um valor maior, nesse caso a parte direita\n",
    "#do gráfico"
   ]
  },
  {
   "cell_type": "code",
   "execution_count": 11,
   "metadata": {},
   "outputs": [
    {
     "name": "stdout",
     "output_type": "stream",
     "text": [
      "8.600164597595573\n"
     ]
    }
   ],
   "source": [
    "#poderiamos fazer o seguinte também\n",
    "\n",
    "p2 = t.cdf(1.5 ,8)\n",
    "valor2 = (1-p2)*100\n",
    "print(valor2)"
   ]
  },
  {
   "cell_type": "code",
   "execution_count": 14,
   "metadata": {},
   "outputs": [
    {
     "data": {
      "text/plain": [
       "0.9999999999999999"
      ]
     },
     "execution_count": 14,
     "metadata": {},
     "output_type": "execute_result"
    }
   ],
   "source": [
    "# somando (lado esquerdo e direito), aproximadamente 1\n",
    "t.cdf(1.5, 8) + t.sf(1.5, 8)\n"
   ]
  },
  {
   "cell_type": "code",
   "execution_count": null,
   "metadata": {},
   "outputs": [],
   "source": []
  }
 ],
 "metadata": {
  "kernelspec": {
   "display_name": "Python 3",
   "language": "python",
   "name": "python3"
  },
  "language_info": {
   "codemirror_mode": {
    "name": "ipython",
    "version": 3
   },
   "file_extension": ".py",
   "mimetype": "text/x-python",
   "name": "python",
   "nbconvert_exporter": "python",
   "pygments_lexer": "ipython3",
   "version": "3.6.8"
  }
 },
 "nbformat": 4,
 "nbformat_minor": 2
}
