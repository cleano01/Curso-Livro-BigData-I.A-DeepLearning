{
 "cells": [
  {
   "cell_type": "code",
   "execution_count": 1,
   "metadata": {},
   "outputs": [],
   "source": [
    "from scipy.stats import binom"
   ]
  },
  {
   "cell_type": "markdown",
   "metadata": {},
   "source": [
    "Se eu jogar uma moeda 5 vezes. Qual a probabilidade de dar cara 3 vezes?"
   ]
  },
  {
   "cell_type": "code",
   "execution_count": 3,
   "metadata": {},
   "outputs": [
    {
     "name": "stdout",
     "output_type": "stream",
     "text": [
      "0.3125\n"
     ]
    }
   ],
   "source": [
    "#sucesso=3   \n",
    "#tentativas = 5\n",
    "#probabilidade do sucesso= 50% = 0.5 = cara ou coroa\n",
    "prob = binom.pmf(3, 5, 0.5)\n",
    "print(prob)"
   ]
  },
  {
   "cell_type": "markdown",
   "metadata": {},
   "source": [
    "Se eu passar 4 sinais de quatro tempos cada. Qual a\n",
    "probabilidade de eu pegar 0,1,2,3 e 4 sinais verdes?"
   ]
  },
  {
   "cell_type": "code",
   "execution_count": 4,
   "metadata": {},
   "outputs": [
    {
     "name": "stdout",
     "output_type": "stream",
     "text": [
      "0.31640625000000006\n",
      "0.4218750000000001\n",
      "0.21093750000000006\n",
      "0.046875000000000035\n",
      "0.003906250000000001\n"
     ]
    }
   ],
   "source": [
    "##sucesso=0   verdes\n",
    "#tentativas = 4\n",
    "#probabilidade do sucesso= 25% = 0.25 = sinal verde\n",
    "prob0 = binom.pmf(0, 4, 0.25)\n",
    "print(prob0)\n",
    "\n",
    "#para outras probabilidades\n",
    "prob1 = binom.pmf(1, 4, 0.25)\n",
    "print(prob1)\n",
    "\n",
    "prob2 = binom.pmf(2, 4, 0.25)\n",
    "print(prob2)\n",
    "\n",
    "prob3 = binom.pmf(3, 4, 0.25)\n",
    "print(prob3)\n",
    "\n",
    "prob4 = binom.pmf(4, 4, 0.25)\n",
    "print(prob4)\n",
    "\n"
   ]
  },
  {
   "cell_type": "code",
   "execution_count": 6,
   "metadata": {},
   "outputs": [
    {
     "name": "stdout",
     "output_type": "stream",
     "text": [
      "1.0000000000000002\n"
     ]
    }
   ],
   "source": [
    "soma = prob0 + prob1 + prob2 + prob3 + prob4\n",
    "print(soma)"
   ]
  },
  {
   "cell_type": "markdown",
   "metadata": {},
   "source": [
    "E se forem sinais de dois tempos?"
   ]
  },
  {
   "cell_type": "code",
   "execution_count": 7,
   "metadata": {},
   "outputs": [
    {
     "name": "stdout",
     "output_type": "stream",
     "text": [
      "0.0625\n"
     ]
    }
   ],
   "source": [
    "prob_time = binom.pmf(4, 4, 0.5)\n",
    "print(prob_time)"
   ]
  },
  {
   "cell_type": "markdown",
   "metadata": {},
   "source": [
    "Se você fizer a prova de um concurso com 12 questões.\n",
    "“chutando” todas as questões, qual a probabilidade de acertar 7\n",
    "questões? (4 alternativas cada questão)"
   ]
  },
  {
   "cell_type": "code",
   "execution_count": 10,
   "metadata": {},
   "outputs": [
    {
     "name": "stdout",
     "output_type": "stream",
     "text": [
      "0.011471271514892573\n",
      "1.1471271514892574\n",
      "\n",
      "5.960464477539072e-06\n"
     ]
    }
   ],
   "source": [
    "#sucesso=7   acertos nas questões\n",
    "#tentativas = 12\n",
    "#probabilidade do sucesso= 25% = 0.25 = cada questão tem 4 alternativas então 1/4= 0.25\n",
    "prob_quest= binom.pmf(7, 12, 0.25)\n",
    "print(prob_quest)\n",
    "print(prob_quest*100)\n",
    "\n",
    "print('')\n",
    "\n",
    "#verificar caso acerta todas as questões\n",
    "prob_quest_todas= binom.pmf(12, 12, 0.25)\n",
    "print(prob_quest_todas *100)"
   ]
  },
  {
   "cell_type": "code",
   "execution_count": 3,
   "metadata": {},
   "outputs": [
    {
     "name": "stdout",
     "output_type": "stream",
     "text": [
      "4.394531249999999\n"
     ]
    }
   ],
   "source": [
    "#sucesso=3   \n",
    "#tentativas = 5\n",
    "#probabilidade do sucesso= 50% = 0.5 = cara ou coroa\n",
    "prob = binom.pmf(8, 10, 0.5)\n",
    "print(prob*100)"
   ]
  },
  {
   "cell_type": "code",
   "execution_count": null,
   "metadata": {},
   "outputs": [],
   "source": []
  }
 ],
 "metadata": {
  "kernelspec": {
   "display_name": "Python 3",
   "language": "python",
   "name": "python3"
  },
  "language_info": {
   "codemirror_mode": {
    "name": "ipython",
    "version": 3
   },
   "file_extension": ".py",
   "mimetype": "text/x-python",
   "name": "python",
   "nbconvert_exporter": "python",
   "pygments_lexer": "ipython3",
   "version": "3.6.8"
  }
 },
 "nbformat": 4,
 "nbformat_minor": 2
}
