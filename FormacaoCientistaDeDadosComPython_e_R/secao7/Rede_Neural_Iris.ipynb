{
 "cells": [
  {
   "cell_type": "code",
   "execution_count": 0,
   "metadata": {
    "colab": {},
    "colab_type": "code",
    "id": "ThUIUzuQAmPX"
   },
   "outputs": [],
   "source": [
    "from sklearn import datasets\n",
    "from sklearn.model_selection import train_test_split\n",
    "\n",
    "from yellowbrick.classifier import ConfusionMatrix\n",
    "\n",
    "from keras.models import Sequential\n",
    "from keras.layers import Dense\n",
    "from keras.utils import np_utils\n",
    "\n",
    "import numpy as np \n",
    "from sklearn.metrics import confusion_matrix"
   ]
  },
  {
   "cell_type": "code",
   "execution_count": 0,
   "metadata": {
    "colab": {},
    "colab_type": "code",
    "id": "r3nL4jmxBdwb"
   },
   "outputs": [],
   "source": [
    "base = datasets.load_iris()"
   ]
  },
  {
   "cell_type": "code",
   "execution_count": 0,
   "metadata": {
    "colab": {},
    "colab_type": "code",
    "id": "r75za_i6BiIw"
   },
   "outputs": [],
   "source": [
    "previsoes = base.data"
   ]
  },
  {
   "cell_type": "code",
   "execution_count": 0,
   "metadata": {
    "colab": {},
    "colab_type": "code",
    "id": "rCFeJ1a0Bmog"
   },
   "outputs": [],
   "source": [
    "classe =  base.target"
   ]
  },
  {
   "cell_type": "markdown",
   "metadata": {
    "colab_type": "text",
    "id": "-BC1GxE4C_id"
   },
   "source": []
  },
  {
   "cell_type": "code",
   "execution_count": 0,
   "metadata": {
    "colab": {},
    "colab_type": "code",
    "id": "yZyGlB-WCYHE"
   },
   "outputs": [],
   "source": [
    "# Informa que a camada de saida, tera 3 neuronios, por conta da quantidade de classe\n",
    "classe_dummy =  np_utils.to_categorical(classe)"
   ]
  },
  {
   "cell_type": "code",
   "execution_count": 0,
   "metadata": {
    "colab": {},
    "colab_type": "code",
    "id": "YjsK6nD7CZnn"
   },
   "outputs": [],
   "source": [
    "classe_dummy"
   ]
  },
  {
   "cell_type": "code",
   "execution_count": 0,
   "metadata": {
    "colab": {},
    "colab_type": "code",
    "id": "p5WmjYTbD9eK"
   },
   "outputs": [],
   "source": [
    "#divisao das bases de dados\n",
    "X_treino, X_teste, y_treino, y_teste = train_test_split(previsoes,\n",
    "                                                        classe_dummy,\n",
    "                                                        test_size = 0.3,\n",
    "                                                        random_state = 0)"
   ]
  },
  {
   "cell_type": "code",
   "execution_count": 0,
   "metadata": {
    "colab": {},
    "colab_type": "code",
    "id": "DiWmNiuPEbzE"
   },
   "outputs": [],
   "source": [
    "#inciando a rede\n",
    "modelo = Sequential()"
   ]
  },
  {
   "cell_type": "code",
   "execution_count": 0,
   "metadata": {
    "colab": {},
    "colab_type": "code",
    "id": "ZVSkm1t1EldS"
   },
   "outputs": [],
   "source": [
    "#adicionado camadas densas\n",
    "#units = camada escondida\n",
    "#input_dim = previsores(dados a ser previstos, nesse caso tamanho, lagura ...) \n",
    "modelo.add(Dense(units = 5, input_dim = 4))\n",
    "\n",
    "#camada escondida\n",
    "modelo.add(Dense(units = 4))\n",
    "\n",
    "#camada de saida\n",
    "#units=3 estamos dizendo que a saida tera 3 tipo de classificacao, isso na camada de saida\n",
    "#activation='softmax' deve ser passado quando temos problemas de classificacao, com mais de 2 classes\n",
    "modelo.add(Dense(units=3, activation='softmax'))"
   ]
  },
  {
   "cell_type": "code",
   "execution_count": 26,
   "metadata": {
    "colab": {
     "base_uri": "https://localhost:8080/",
     "height": 255
    },
    "colab_type": "code",
    "id": "hEt6O8_4GM5y",
    "outputId": "71bc44a2-b431-401f-9277-d9df7bae5b2d"
   },
   "outputs": [
    {
     "name": "stdout",
     "output_type": "stream",
     "text": [
      "Model: \"sequential_2\"\n",
      "_________________________________________________________________\n",
      "Layer (type)                 Output Shape              Param #   \n",
      "=================================================================\n",
      "dense_4 (Dense)              (None, 5)                 25        \n",
      "_________________________________________________________________\n",
      "dense_5 (Dense)              (None, 4)                 24        \n",
      "_________________________________________________________________\n",
      "dense_6 (Dense)              (None, 3)                 15        \n",
      "=================================================================\n",
      "Total params: 64\n",
      "Trainable params: 64\n",
      "Non-trainable params: 0\n",
      "_________________________________________________________________\n"
     ]
    }
   ],
   "source": [
    "modelo.summary()"
   ]
  },
  {
   "cell_type": "code",
   "execution_count": 0,
   "metadata": {
    "colab": {},
    "colab_type": "code",
    "id": "Y2Ro53CYGQMx"
   },
   "outputs": [],
   "source": [
    "  #compilando a rede\n",
    "  #optimizer='adam' vai fazer ajuste e atualização dos pesos\n",
    "  #loss = 'categorical_crossentropy' vaif azer calculo do erro, \"categorical_crossentropy\", serve para classificacao\n",
    "  modelo.compile(optimizer = 'adam', loss = 'categorical_crossentropy',\n",
    "                 metrics = ['accuracy'])\n",
    "  \n",
    "  \n",
    "  #fazendo o treinamento \n",
    "  #epochs=100 numero de vezes que ira rodar\n",
    "  modelo.fit(X_treino, y_treino, epochs=100,\n",
    "             validation_data=(X_teste, y_teste))"
   ]
  },
  {
   "cell_type": "code",
   "execution_count": 0,
   "metadata": {
    "colab": {},
    "colab_type": "code",
    "id": "Ep2tnsDCIOeC"
   },
   "outputs": [],
   "source": [
    "previsoes"
   ]
  },
  {
   "cell_type": "code",
   "execution_count": 0,
   "metadata": {
    "colab": {},
    "colab_type": "code",
    "id": "BfdRWcpRHh8J"
   },
   "outputs": [],
   "source": [
    "#fazendo previsoes\n",
    "previsoes = modelo.predict(X_teste)\n",
    "\n",
    "#estamos indicando se a previsao for maior que 50%, é uma classe\n",
    "previsoes = (previsoes > 0.5)"
   ]
  },
  {
   "cell_type": "code",
   "execution_count": 0,
   "metadata": {
    "colab": {},
    "colab_type": "code",
    "id": "ZX7qCAsQIpm3"
   },
   "outputs": [],
   "source": [
    "y_teste_matrix = [np.argmax(t) for t in y_teste]\n",
    "y_previsao_matrix = [np.argmax(t) for t in previsoes]\n"
   ]
  },
  {
   "cell_type": "code",
   "execution_count": 0,
   "metadata": {
    "colab": {},
    "colab_type": "code",
    "id": "-UGOUHPLKBSx"
   },
   "outputs": [],
   "source": [
    "confusao = confusion_matrix(y_teste_matrix, y_previsao_matrix)"
   ]
  },
  {
   "cell_type": "code",
   "execution_count": 35,
   "metadata": {
    "colab": {
     "base_uri": "https://localhost:8080/",
     "height": 68
    },
    "colab_type": "code",
    "id": "CzbhaNN6KITq",
    "outputId": "fed2757d-5d29-4d31-bce2-eec144c00abc"
   },
   "outputs": [
    {
     "data": {
      "text/plain": [
       "array([[16,  0,  0],\n",
       "       [ 0, 17,  1],\n",
       "       [ 0,  0, 11]])"
      ]
     },
     "execution_count": 35,
     "metadata": {
      "tags": []
     },
     "output_type": "execute_result"
    }
   ],
   "source": [
    "confusao"
   ]
  },
  {
   "cell_type": "code",
   "execution_count": 0,
   "metadata": {
    "colab": {},
    "colab_type": "code",
    "id": "aWP3R_s4KJX7"
   },
   "outputs": [],
   "source": []
  }
 ],
 "metadata": {
  "colab": {
   "collapsed_sections": [],
   "name": "Rede_Neural_Iris.ipynb",
   "provenance": []
  },
  "kernelspec": {
   "display_name": "Python 3",
   "language": "python",
   "name": "python3"
  },
  "language_info": {
   "codemirror_mode": {
    "name": "ipython",
    "version": 3
   },
   "file_extension": ".py",
   "mimetype": "text/x-python",
   "name": "python",
   "nbconvert_exporter": "python",
   "pygments_lexer": "ipython3",
   "version": "3.6.9"
  }
 },
 "nbformat": 4,
 "nbformat_minor": 1
}
