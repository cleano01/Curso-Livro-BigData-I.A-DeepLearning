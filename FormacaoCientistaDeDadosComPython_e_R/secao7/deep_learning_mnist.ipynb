{
  "nbformat": 4,
  "nbformat_minor": 0,
  "metadata": {
    "colab": {
      "name": "Rede_Neural_mnist",
      "provenance": [],
      "collapsed_sections": []
    },
    "kernelspec": {
      "name": "python3",
      "display_name": "Python 3"
    }
  },
  "cells": [
    {
      "cell_type": "code",
      "metadata": {
        "id": "M6E3s6QcVq2o",
        "colab_type": "code",
        "colab": {}
      },
      "source": [
        "import matplotlib.pyplot as plt\n",
        "\n",
        "from keras.datasets import  mnist\n",
        "from keras.models import Sequential\n",
        "from keras.layers import Dense, Dropout\n",
        "from keras.utils import np_utils\n",
        "\n",
        "import numpy as np \n",
        "from sklearn.metrics import confusion_matrix"
      ],
      "execution_count": 0,
      "outputs": []
    },
    {
      "cell_type": "code",
      "metadata": {
        "id": "xE2xp2xnYLF8",
        "colab_type": "code",
        "colab": {}
      },
      "source": [
        "#divisao das bases de dados\n",
        "(X_treino, y_treino,), (X_teste, y_teste) = mnist.load_data()"
      ],
      "execution_count": 0,
      "outputs": []
    },
    {
      "cell_type": "code",
      "metadata": {
        "id": "UAHGsAE6YlN6",
        "colab_type": "code",
        "outputId": "d2f58087-dc5a-4a9b-d7bd-ad09d672f8e4",
        "colab": {
          "base_uri": "https://localhost:8080/",
          "height": 298
        }
      },
      "source": [
        "#visualiza a imagem, passando o indicie\n",
        "#cmap='gray' mostra a imagem em cinza\n",
        "plt.imshow(X_treino[1], cmap='gray')\n",
        "cmap='gray'\n",
        "plt.title(y_treino[2])\n",
        "\n",
        "#observe que no acima da imagem, mostra o valor real da imagem \"4\""
      ],
      "execution_count": 26,
      "outputs": [
        {
          "output_type": "execute_result",
          "data": {
            "text/plain": [
              "Text(0.5, 1.0, '4')"
            ]
          },
          "metadata": {
            "tags": []
          },
          "execution_count": 26
        },
        {
          "output_type": "display_data",
          "data": {
            "image/png": "[encoded data removed]",
            "text/plain": [
              "<Figure size 432x288 with 1 Axes>"
            ]
          },
          "metadata": {
            "tags": []
          }
        }
      ]
    },
    {
      "cell_type": "code",
      "metadata": {
        "id": "iisrVHvIY-xU",
        "colab_type": "code",
        "colab": {}
      },
      "source": [
        "#fazendo tratamento reshape\n",
        "X_treino = X_treino.reshape((len(X_treino), np.prod(X_treino.shape[1:])))\n",
        "\n",
        "X_teste = X_teste.reshape((len(X_teste), np.prod(X_teste.shape[1:])))\n"
      ],
      "execution_count": 0,
      "outputs": []
    },
    {
      "cell_type": "code",
      "metadata": {
        "id": "O6Ynfqf5Zf9W",
        "colab_type": "code",
        "colab": {}
      },
      "source": [
        "#convertando os valores para float\n",
        "X_treino = X_treino.astype('float32')\n",
        "X_teste = X_teste.astype('float32')"
      ],
      "execution_count": 0,
      "outputs": []
    },
    {
      "cell_type": "code",
      "metadata": {
        "id": "PlxmNCDoerTE",
        "colab_type": "code",
        "colab": {}
      },
      "source": [
        "#Normalizando os valores entre 0 e 1 \n",
        "\n",
        "X_treino /=255\n",
        "X_teste /=255"
      ],
      "execution_count": 0,
      "outputs": []
    },
    {
      "cell_type": "code",
      "metadata": {
        "id": "VgWGNziafJ_S",
        "colab_type": "code",
        "colab": {}
      },
      "source": [
        "#10 numero de classes na base\n",
        "#Informa que a camada de saida, tera 10 neuronios, por conta da quantidade de classe\n",
        "y_treino = np_utils.to_categorical(y_treino, 10)\n",
        "y_teste = np_utils.to_categorical(y_teste, 10)"
      ],
      "execution_count": 0,
      "outputs": []
    },
    {
      "cell_type": "code",
      "metadata": {
        "id": "93dUVCyvfNNJ",
        "colab_type": "code",
        "colab": {
          "base_uri": "https://localhost:8080/",
          "height": 391
        },
        "outputId": "29ef2ef6-766f-4f47-fc81-2b8c7b3605fe"
      },
      "source": [
        "#Sequential = trabalha com uma sequencia de camdas\n",
        "modelo = Sequential()\n",
        "\n",
        "#units = quantidade de neuronios da nossa camada escondida (primeira camada)\n",
        "#activation = funcao de ativacao usamos relu\n",
        "#input_dim= 784 faz o numero de referencia de caracteristicas na base de dados, e que nesse caso e 784\n",
        "modelo.add(Dense(units=64, activation='relu', input_dim= 784))\n",
        "\n",
        "'''Dropout() ajustar os valores passado pela camada, usado quando ha muitas \n",
        "características ou neu na base, nesse caso zerando alguns neuronios para não ter Overfitting, para\n",
        "proxima camada'''\n",
        "#Com Dropout(0.2), estamos dizendo que vamos zerar 20% dos 64 neuronios\n",
        "modelo.add(Dropout(0.2))\n",
        "\n",
        "\n",
        "modelo.add(Dense(units=64, activation='relu'))\n",
        "modelo.add(Dropout(0.2))\n",
        "\n",
        "modelo.add(Dense(units=64, activation='relu'))\n",
        "modelo.add(Dropout(0.2))\n",
        "\n",
        "#camada de saida\n",
        "modelo.add(Dense(units=10, activation='softmax'))\n",
        "\n",
        "\n",
        "\n",
        "modelo.summary()\n",
        "\n"
      ],
      "execution_count": 32,
      "outputs": [
        {
          "output_type": "stream",
          "text": [
            "Model: \"sequential_3\"\n",
            "_________________________________________________________________\n",
            "Layer (type)                 Output Shape              Param #   \n",
            "=================================================================\n",
            "dense_9 (Dense)              (None, 64)                50240     \n",
            "_________________________________________________________________\n",
            "dropout_7 (Dropout)          (None, 64)                0         \n",
            "_________________________________________________________________\n",
            "dense_10 (Dense)             (None, 64)                4160      \n",
            "_________________________________________________________________\n",
            "dropout_8 (Dropout)          (None, 64)                0         \n",
            "_________________________________________________________________\n",
            "dense_11 (Dense)             (None, 64)                4160      \n",
            "_________________________________________________________________\n",
            "dropout_9 (Dropout)          (None, 64)                0         \n",
            "_________________________________________________________________\n",
            "dense_12 (Dense)             (None, 10)                650       \n",
            "=================================================================\n",
            "Total params: 59,210\n",
            "Trainable params: 59,210\n",
            "Non-trainable params: 0\n",
            "_________________________________________________________________\n"
          ],
          "name": "stdout"
        }
      ]
    },
    {
      "cell_type": "markdown",
      "metadata": {
        "id": "1BzwuiX12xN8",
        "colab_type": "text"
      },
      "source": [
        ""
      ]
    },
    {
      "cell_type": "code",
      "metadata": {
        "id": "3hmDYm212dpr",
        "colab_type": "code",
        "colab": {
          "base_uri": "https://localhost:8080/",
          "height": 1000
        },
        "outputId": "927cd8e2-f238-4c62-debe-ed9e59eaac08"
      },
      "source": [
        "#compilando (fazendo ajuste dos pesos) a rede\n",
        "#optimizer= 'adam' \n",
        "#loos= 'categorical_crossentropy' para problemas de classificacao com mais de duas classes\n",
        "#loos funcao para otimizar erro\n",
        "modelo.compile(optimizer= 'adam', loss= 'categorical_crossentropy',\n",
        "               metrics = ['accuracy'])\n",
        "\n",
        "#fazendo treinamento\n",
        "#visualize o valor \"val_acc\" para ter a acuracia\n",
        "historico = modelo.fit(X_treino, y_treino, epochs=20,\n",
        "                       validation_data = (X_teste, y_teste))"
      ],
      "execution_count": 39,
      "outputs": [
        {
          "output_type": "stream",
          "text": [
            "WARNING:tensorflow:From /usr/local/lib/python3.6/dist-packages/tensorflow_core/python/ops/math_grad.py:1424: where (from tensorflow.python.ops.array_ops) is deprecated and will be removed in a future version.\n",
            "Instructions for updating:\n",
            "Use tf.where in 2.0, which has the same broadcast rule as np.where\n",
            "WARNING:tensorflow:From /usr/local/lib/python3.6/dist-packages/keras/backend/tensorflow_backend.py:1033: The name tf.assign_add is deprecated. Please use tf.compat.v1.assign_add instead.\n",
            "\n",
            "WARNING:tensorflow:From /usr/local/lib/python3.6/dist-packages/keras/backend/tensorflow_backend.py:1020: The name tf.assign is deprecated. Please use tf.compat.v1.assign instead.\n",
            "\n",
            "WARNING:tensorflow:From /usr/local/lib/python3.6/dist-packages/keras/backend/tensorflow_backend.py:3005: The name tf.Session is deprecated. Please use tf.compat.v1.Session instead.\n",
            "\n",
            "Train on 60000 samples, validate on 10000 samples\n",
            "Epoch 1/20\n",
            "WARNING:tensorflow:From /usr/local/lib/python3.6/dist-packages/keras/backend/tensorflow_backend.py:190: The name tf.get_default_session is deprecated. Please use tf.compat.v1.get_default_session instead.\n",
            "\n",
            "WARNING:tensorflow:From /usr/local/lib/python3.6/dist-packages/keras/backend/tensorflow_backend.py:197: The name tf.ConfigProto is deprecated. Please use tf.compat.v1.ConfigProto instead.\n",
            "\n",
            "WARNING:tensorflow:From /usr/local/lib/python3.6/dist-packages/keras/backend/tensorflow_backend.py:207: The name tf.global_variables is deprecated. Please use tf.compat.v1.global_variables instead.\n",
            "\n",
            "WARNING:tensorflow:From /usr/local/lib/python3.6/dist-packages/keras/backend/tensorflow_backend.py:216: The name tf.is_variable_initialized is deprecated. Please use tf.compat.v1.is_variable_initialized instead.\n",
            "\n",
            "WARNING:tensorflow:From /usr/local/lib/python3.6/dist-packages/keras/backend/tensorflow_backend.py:223: The name tf.variables_initializer is deprecated. Please use tf.compat.v1.variables_initializer instead.\n",
            "\n",
            "60000/60000 [==============================] - 7s 113us/step - loss: 0.4431 - acc: 0.8633 - val_loss: 0.1667 - val_acc: 0.9473\n",
            "Epoch 2/20\n",
            "60000/60000 [==============================] - 5s 91us/step - loss: 0.2283 - acc: 0.9339 - val_loss: 0.1316 - val_acc: 0.9602\n",
            "Epoch 3/20\n",
            "60000/60000 [==============================] - 5s 86us/step - loss: 0.1861 - acc: 0.9458 - val_loss: 0.1123 - val_acc: 0.9653\n",
            "Epoch 4/20\n",
            "60000/60000 [==============================] - 5s 91us/step - loss: 0.1621 - acc: 0.9529 - val_loss: 0.1160 - val_acc: 0.9644\n",
            "Epoch 5/20\n",
            "60000/60000 [==============================] - 5s 90us/step - loss: 0.1488 - acc: 0.9567 - val_loss: 0.0971 - val_acc: 0.9712\n",
            "Epoch 6/20\n",
            "60000/60000 [==============================] - 6s 94us/step - loss: 0.1382 - acc: 0.9597 - val_loss: 0.0983 - val_acc: 0.9703\n",
            "Epoch 7/20\n",
            "60000/60000 [==============================] - 6s 94us/step - loss: 0.1262 - acc: 0.9628 - val_loss: 0.0960 - val_acc: 0.9696\n",
            "Epoch 8/20\n",
            "60000/60000 [==============================] - 6s 96us/step - loss: 0.1226 - acc: 0.9643 - val_loss: 0.0953 - val_acc: 0.9723\n",
            "Epoch 9/20\n",
            "60000/60000 [==============================] - 6s 95us/step - loss: 0.1154 - acc: 0.9653 - val_loss: 0.0913 - val_acc: 0.9728\n",
            "Epoch 10/20\n",
            "60000/60000 [==============================] - 5s 90us/step - loss: 0.1074 - acc: 0.9681 - val_loss: 0.0963 - val_acc: 0.9724\n",
            "Epoch 11/20\n",
            "60000/60000 [==============================] - 5s 88us/step - loss: 0.1088 - acc: 0.9681 - val_loss: 0.0950 - val_acc: 0.9725\n",
            "Epoch 12/20\n",
            "60000/60000 [==============================] - 5s 85us/step - loss: 0.1020 - acc: 0.9705 - val_loss: 0.0970 - val_acc: 0.9742\n",
            "Epoch 13/20\n",
            "60000/60000 [==============================] - 5s 87us/step - loss: 0.0998 - acc: 0.9706 - val_loss: 0.0939 - val_acc: 0.9726\n",
            "Epoch 14/20\n",
            "60000/60000 [==============================] - 6s 94us/step - loss: 0.0973 - acc: 0.9711 - val_loss: 0.0844 - val_acc: 0.9764\n",
            "Epoch 15/20\n",
            "60000/60000 [==============================] - 6s 95us/step - loss: 0.0939 - acc: 0.9717 - val_loss: 0.0931 - val_acc: 0.9735\n",
            "Epoch 16/20\n",
            "60000/60000 [==============================] - 6s 92us/step - loss: 0.0917 - acc: 0.9732 - val_loss: 0.0885 - val_acc: 0.9754\n",
            "Epoch 17/20\n",
            "60000/60000 [==============================] - 5s 90us/step - loss: 0.0873 - acc: 0.9741 - val_loss: 0.0833 - val_acc: 0.9767\n",
            "Epoch 18/20\n",
            "60000/60000 [==============================] - 6s 96us/step - loss: 0.0870 - acc: 0.9738 - val_loss: 0.0894 - val_acc: 0.9761\n",
            "Epoch 19/20\n",
            "60000/60000 [==============================] - 6s 102us/step - loss: 0.0845 - acc: 0.9749 - val_loss: 0.0862 - val_acc: 0.9770\n",
            "Epoch 20/20\n",
            "60000/60000 [==============================] - 5s 87us/step - loss: 0.0840 - acc: 0.9746 - val_loss: 0.0922 - val_acc: 0.9745\n"
          ],
          "name": "stdout"
        }
      ]
    },
    {
      "cell_type": "code",
      "metadata": {
        "id": "zUsPBo_v3w2g",
        "colab_type": "code",
        "colab": {
          "base_uri": "https://localhost:8080/",
          "height": 282
        },
        "outputId": "49034ef5-fc3c-4319-954e-1ba5a283345b"
      },
      "source": [
        "historico.history.keys()\n",
        "#aqui podemos visulizar o erro\n",
        "plt.plot(historico.history['val_loss'])"
      ],
      "execution_count": 42,
      "outputs": [
        {
          "output_type": "execute_result",
          "data": {
            "text/plain": [
              "[<matplotlib.lines.Line2D at 0x7fd12b33f828>]"
            ]
          },
          "metadata": {
            "tags": []
          },
          "execution_count": 42
        },
        {
          "output_type": "display_data",
          "data": {
            "image/png": "[encoded data removed]",
            "text/plain": [
              "<Figure size 432x288 with 1 Axes>"
            ]
          },
          "metadata": {
            "tags": []
          }
        }
      ]
    },
    {
      "cell_type": "code",
      "metadata": {
        "id": "2gF_Lrjg5jKI",
        "colab_type": "code",
        "colab": {
          "base_uri": "https://localhost:8080/",
          "height": 282
        },
        "outputId": "06effd73-4b19-4819-da2c-e31ccfeb001b"
      },
      "source": [
        "#aqui podemos visulizar o acerto\n",
        "plt.plot(historico.history['val_acc'])"
      ],
      "execution_count": 43,
      "outputs": [
        {
          "output_type": "execute_result",
          "data": {
            "text/plain": [
              "[<matplotlib.lines.Line2D at 0x7fd12b327240>]"
            ]
          },
          "metadata": {
            "tags": []
          },
          "execution_count": 43
        },
        {
          "output_type": "display_data",
          "data": {
            "image/png": "[encoded data removed]",
            "text/plain": [
              "<Figure size 432x288 with 1 Axes>"
            ]
          },
          "metadata": {
            "tags": []
          }
        }
      ]
    },
    {
      "cell_type": "code",
      "metadata": {
        "id": "Q6KpdZOV57m3",
        "colab_type": "code",
        "colab": {
          "base_uri": "https://localhost:8080/",
          "height": 238
        },
        "outputId": "28670973-dbd4-4c8f-bc64-0cf0fdfebd78"
      },
      "source": [
        "#fazendo as previsoes\n",
        "previsoes = modelo.predict(X_teste)\n",
        "\n",
        "previsoes"
      ],
      "execution_count": 46,
      "outputs": [
        {
          "output_type": "execute_result",
          "data": {
            "text/plain": [
              "array([[2.80274571e-11, 4.66489902e-10, 2.66826447e-07, ...,\n",
              "        9.99997854e-01, 1.47955693e-11, 1.23538484e-06],\n",
              "       [1.16682801e-11, 1.40167351e-04, 9.99856472e-01, ...,\n",
              "        3.11104912e-07, 2.66833083e-10, 1.77695925e-14],\n",
              "       [1.19318520e-12, 9.99994755e-01, 3.36998227e-07, ...,\n",
              "        4.57484788e-07, 1.66440293e-06, 1.19037058e-09],\n",
              "       ...,\n",
              "       [3.69600482e-13, 9.00105235e-09, 9.26757782e-09, ...,\n",
              "        4.21108162e-08, 3.86358900e-09, 7.26810049e-06],\n",
              "       [1.64112231e-15, 2.57570967e-15, 7.42504338e-14, ...,\n",
              "        1.06168058e-14, 3.27891470e-09, 1.91005406e-10],\n",
              "       [1.73005582e-10, 3.97255098e-14, 2.90789857e-11, ...,\n",
              "        1.25306645e-15, 1.03308456e-11, 8.52743169e-14]], dtype=float32)"
            ]
          },
          "metadata": {
            "tags": []
          },
          "execution_count": 46
        }
      ]
    },
    {
      "cell_type": "code",
      "metadata": {
        "id": "yS7gva3B6EPB",
        "colab_type": "code",
        "colab": {}
      },
      "source": [
        "#vamos pegar os maiores valores\n",
        "y_teste_matriz = [np.argmax(t) for t in y_teste]\n",
        "y_previsoes_matriz = [np.argmax(t) for t in previsoes]"
      ],
      "execution_count": 0,
      "outputs": []
    },
    {
      "cell_type": "code",
      "metadata": {
        "id": "CzECP4IU6dOH",
        "colab_type": "code",
        "colab": {
          "base_uri": "https://localhost:8080/",
          "height": 187
        },
        "outputId": "dee20151-69e5-42f1-ff82-58ca4b1b1700"
      },
      "source": [
        "confusao = confusion_matrix(y_teste_matriz, y_previsoes_matriz)\n",
        "confusao"
      ],
      "execution_count": 50,
      "outputs": [
        {
          "output_type": "execute_result",
          "data": {
            "text/plain": [
              "array([[ 972,    1,    1,    0,    1,    0,    1,    0,    3,    1],\n",
              "       [   0, 1124,    1,    2,    0,    1,    2,    1,    4,    0],\n",
              "       [   5,    1,  998,   11,    3,    0,    1,   10,    3,    0],\n",
              "       [   0,    0,    4,  986,    0,    7,    0,    9,    2,    2],\n",
              "       [   0,    0,    6,    0,  965,    0,    1,    1,    1,    8],\n",
              "       [   3,    1,    0,   10,    4,  859,    3,    1,    4,    7],\n",
              "       [   3,    2,    1,    1,    7,    3,  939,    0,    2,    0],\n",
              "       [   2,    3,    9,    2,    2,    0,    0, 1005,    0,    5],\n",
              "       [   3,    2,    6,    5,    5,    7,    4,    3,  928,   11],\n",
              "       [   3,    3,    2,    8,   17,    2,    0,    4,    1,  969]])"
            ]
          },
          "metadata": {
            "tags": []
          },
          "execution_count": 50
        }
      ]
    },
    {
      "cell_type": "code",
      "metadata": {
        "id": "32_zBblF63M6",
        "colab_type": "code",
        "colab": {
          "base_uri": "https://localhost:8080/",
          "height": 51
        },
        "outputId": "6d15542c-e51a-4c63-943d-a6dd6bdf2c3c"
      },
      "source": [
        "#fazendo teste\n",
        "\n",
        "y_treino[20] #digito 4\n",
        "novo = x_treino[20]\n",
        "\n",
        "#temos antes que tratar\n",
        "#tratamos para que novo(x_treino), tenha so uma coluna, para fazer a comparacao\n",
        "novo = np.expand_dims(novo, axis = 0)\n",
        "\n",
        "pred = modelo.predict(novo)\n",
        "\n",
        "print(y_treino[20])\n",
        "pred\n"
      ],
      "execution_count": 60,
      "outputs": [
        {
          "output_type": "stream",
          "text": [
            "[0. 0. 0. 0. 1. 0. 0. 0. 0. 0.]\n"
          ],
          "name": "stdout"
        },
        {
          "output_type": "execute_result",
          "data": {
            "text/plain": [
              "array([[0., 0., 0., 0., 1., 0., 0., 0., 0., 0.]], dtype=float32)"
            ]
          },
          "metadata": {
            "tags": []
          },
          "execution_count": 60
        }
      ]
    },
    {
      "cell_type": "code",
      "metadata": {
        "id": "PlcGB2hl7PZr",
        "colab_type": "code",
        "colab": {}
      },
      "source": [
        ""
      ],
      "execution_count": 0,
      "outputs": []
    }
  ]
}