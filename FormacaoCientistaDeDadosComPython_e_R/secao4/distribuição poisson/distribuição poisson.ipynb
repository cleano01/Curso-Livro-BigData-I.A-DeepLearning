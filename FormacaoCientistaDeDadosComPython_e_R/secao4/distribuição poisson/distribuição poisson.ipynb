{
 "cells": [
  {
   "cell_type": "code",
   "execution_count": 2,
   "metadata": {},
   "outputs": [],
   "source": [
    "from scipy.stats import poisson"
   ]
  },
  {
   "cell_type": "raw",
   "metadata": {},
   "source": [
    "O Número de Acidentes de Carros\n",
    "que ocorrem por dia é de 2\n",
    "acidentes. Qual a probabilidade de\n",
    "ocorrem 3 em um determinado\n",
    "dia?"
   ]
  },
  {
   "cell_type": "code",
   "execution_count": 6,
   "metadata": {},
   "outputs": [
    {
     "data": {
      "text/plain": [
       "0.18044704431548356"
      ]
     },
     "execution_count": 6,
     "metadata": {},
     "output_type": "execute_result"
    }
   ],
   "source": [
    "#3 é a probabilidade (x)\n",
    "#2 é a média\n",
    "#função pmf,usado quando P(X = x) \n",
    "poisson.pmf(3,2)"
   ]
  },
  {
   "cell_type": "raw",
   "metadata": {},
   "source": [
    "O Número de Acidentes\n",
    "de Carros que ocorrem\n",
    "por dia é de 2 acidentes.\n",
    "Qual a probabilidade de\n",
    "ocorrem 3 ou menos em\n",
    "um dia?"
   ]
  },
  {
   "cell_type": "code",
   "execution_count": 4,
   "metadata": {},
   "outputs": [
    {
     "data": {
      "text/plain": [
       "0.857123460498547"
      ]
     },
     "execution_count": 4,
     "metadata": {},
     "output_type": "execute_result"
    }
   ],
   "source": [
    "#3 é a probabilidade (x)\n",
    "#2 é a média\n",
    "#função cdf, quando temos P(X <= x ) ou P(X < x) \n",
    "poisson.cdf(3, 2)"
   ]
  },
  {
   "cell_type": "raw",
   "metadata": {},
   "source": [
    "O Número de Acidentes\n",
    "de Carros que ocorrem\n",
    "por dia é de 2 acidentes.\n",
    "Qual a probabilidade de\n",
    "ocorrem mais de 3 em\n",
    "um dia?"
   ]
  },
  {
   "cell_type": "code",
   "execution_count": 5,
   "metadata": {},
   "outputs": [
    {
     "data": {
      "text/plain": [
       "0.14287653950145296"
      ]
     },
     "execution_count": 5,
     "metadata": {},
     "output_type": "execute_result"
    }
   ],
   "source": [
    "#3 é a probabilidade(x) \n",
    "#2 é a média\n",
    "#função sf, usado quando temos P(X > x)\n",
    "poisson.sf(3, 2)"
   ]
  },
  {
   "cell_type": "code",
   "execution_count": null,
   "metadata": {},
   "outputs": [],
   "source": []
  }
 ],
 "metadata": {
  "kernelspec": {
   "display_name": "Python 3",
   "language": "python",
   "name": "python3"
  },
  "language_info": {
   "codemirror_mode": {
    "name": "ipython",
    "version": 3
   },
   "file_extension": ".py",
   "mimetype": "text/x-python",
   "name": "python",
   "nbconvert_exporter": "python",
   "pygments_lexer": "ipython3",
   "version": "3.6.8"
  }
 },
 "nbformat": 4,
 "nbformat_minor": 2
}
