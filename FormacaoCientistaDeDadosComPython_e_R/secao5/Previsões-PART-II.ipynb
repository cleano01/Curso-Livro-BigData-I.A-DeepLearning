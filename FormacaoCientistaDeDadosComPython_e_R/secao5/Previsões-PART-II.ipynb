{
 "cells": [
  {
   "cell_type": "code",
   "execution_count": 1,
   "metadata": {},
   "outputs": [
    {
     "name": "stderr",
     "output_type": "stream",
     "text": [
      "/home/cleano/.local/lib/python3.6/site-packages/sklearn/externals/six.py:31: DeprecationWarning: The module is deprecated in version 0.21 and will be removed in version 0.23 since we've dropped support for Python 2.7. Please rely on the official version of six (https://pypi.org/project/six/).\n",
      "  \"(https://pypi.org/project/six/).\", DeprecationWarning)\n",
      "/home/cleano/.local/lib/python3.6/site-packages/sklearn/externals/joblib/__init__.py:15: DeprecationWarning: sklearn.externals.joblib is deprecated in 0.21 and will be removed in 0.23. Please import this functionality directly from joblib, which can be installed with: pip install joblib. If this warning is raised when loading pickled models, you may need to re-serialize those models with scikit-learn 0.21+.\n",
      "  warnings.warn(msg, category=DeprecationWarning)\n",
      "/home/cleano/.local/lib/python3.6/site-packages/pyramid/__init__.py:68: UserWarning: \n",
      "    The 'pyramid' package will be migrating to a new namespace beginning in \n",
      "    version 1.0.0: 'pmdarima'. This is due to a package name collision with the\n",
      "    Pyramid web framework. For more information, see Issue #34:\n",
      "    \n",
      "        https://github.com/tgsmith61591/pyramid/issues/34\n",
      "        \n",
      "    The package will subsequently be installable via the name 'pmdarima'; the\n",
      "    only functional change to the user will be the import name. All imports\n",
      "    from 'pyramid' will change to 'pmdarima'.\n",
      "    \n",
      "  \"\"\", UserWarning)\n"
     ]
    }
   ],
   "source": [
    "import pandas as pd\n",
    "import matplotlib.pylab as plt\n",
    "from statsmodels.tsa.arima_model import ARIMA\n",
    "from pyramid.arima import auto_arima"
   ]
  },
  {
   "cell_type": "code",
   "execution_count": 2,
   "metadata": {},
   "outputs": [],
   "source": [
    "base =  pd.read_csv(\"AirPassengers.csv\")"
   ]
  },
  {
   "cell_type": "code",
   "execution_count": 3,
   "metadata": {},
   "outputs": [],
   "source": [
    "dateParse = lambda dates : pd.datetime.strptime(dates, '%Y-%m')\n",
    "base = pd.read_csv('AirPassengers.csv', parse_dates = [\"Month\"], \n",
    "                   index_col= \"Month\", date_parser= dateParse)"
   ]
  },
  {
   "cell_type": "code",
   "execution_count": 4,
   "metadata": {},
   "outputs": [],
   "source": [
    "#serie temporal\n",
    "ts = base['#Passengers']"
   ]
  },
  {
   "cell_type": "code",
   "execution_count": 5,
   "metadata": {},
   "outputs": [
    {
     "name": "stderr",
     "output_type": "stream",
     "text": [
      "/home/cleano/.local/lib/python3.6/site-packages/pandas/plotting/_converter.py:129: FutureWarning: Using an implicitly registered datetime converter for a matplotlib plotting method. The converter was registered by pandas on import. Future versions of pandas will require you to explicitly register matplotlib converters.\n",
      "\n",
      "To register the converters:\n",
      "\t>>> from pandas.plotting import register_matplotlib_converters\n",
      "\t>>> register_matplotlib_converters()\n",
      "  warnings.warn(msg, FutureWarning)\n"
     ]
    },
    {
     "data": {
      "text/plain": [
       "[<matplotlib.lines.Line2D at 0x7f7c7100e048>]"
      ]
     },
     "execution_count": 5,
     "metadata": {},
     "output_type": "execute_result"
    },
    {
     "data": {
      "image/png": "[encoded data removed]",
      "text/plain": [
       "<Figure size 432x288 with 1 Axes>"
      ]
     },
     "metadata": {
      "needs_background": "light"
     },
     "output_type": "display_data"
    }
   ],
   "source": [
    "plt.plot(ts)"
   ]
  },
  {
   "cell_type": "code",
   "execution_count": 6,
   "metadata": {},
   "outputs": [
    {
     "name": "stderr",
     "output_type": "stream",
     "text": [
      "/home/cleano/.local/lib/python3.6/site-packages/statsmodels/tsa/base/tsa_model.py:165: ValueWarning: No frequency information was provided, so inferred frequency MS will be used.\n",
      "  % freq, ValueWarning)\n",
      "/home/cleano/.local/lib/python3.6/site-packages/statsmodels/tsa/base/tsa_model.py:165: ValueWarning: No frequency information was provided, so inferred frequency MS will be used.\n",
      "  % freq, ValueWarning)\n"
     ]
    }
   ],
   "source": [
    "modelo = ARIMA(ts, order=(2,1,2))\n",
    "modelo_treinado = modelo.fit()"
   ]
  },
  {
   "cell_type": "code",
   "execution_count": 7,
   "metadata": {},
   "outputs": [
    {
     "data": {
      "text/html": [
       "<table class=\"simpletable\">\n",
       "<caption>ARIMA Model Results</caption>\n",
       "<tr>\n",
       "  <th>Dep. Variable:</th>   <td>D.#Passengers</td>  <th>  No. Observations:  </th>    <td>143</td>  \n",
       "</tr>\n",
       "<tr>\n",
       "  <th>Model:</th>          <td>ARIMA(2, 1, 2)</td>  <th>  Log Likelihood     </th> <td>-666.022</td>\n",
       "</tr>\n",
       "<tr>\n",
       "  <th>Method:</th>             <td>css-mle</td>     <th>  S.D. of innovations</th>  <td>24.716</td> \n",
       "</tr>\n",
       "<tr>\n",
       "  <th>Date:</th>          <td>Wed, 04 Dec 2019</td> <th>  AIC                </th> <td>1344.043</td>\n",
       "</tr>\n",
       "<tr>\n",
       "  <th>Time:</th>              <td>20:53:56</td>     <th>  BIC                </th> <td>1361.821</td>\n",
       "</tr>\n",
       "<tr>\n",
       "  <th>Sample:</th>           <td>02-01-1949</td>    <th>  HQIC               </th> <td>1351.267</td>\n",
       "</tr>\n",
       "<tr>\n",
       "  <th></th>                 <td>- 12-01-1960</td>   <th>                     </th>     <td> </td>   \n",
       "</tr>\n",
       "</table>\n",
       "<table class=\"simpletable\">\n",
       "<tr>\n",
       "           <td></td>              <th>coef</th>     <th>std err</th>      <th>z</th>      <th>P>|z|</th>  <th>[0.025</th>    <th>0.975]</th>  \n",
       "</tr>\n",
       "<tr>\n",
       "  <th>const</th>               <td>    2.5311</td> <td>    0.708</td> <td>    3.574</td> <td> 0.000</td> <td>    1.143</td> <td>    3.919</td>\n",
       "</tr>\n",
       "<tr>\n",
       "  <th>ar.L1.D.#Passengers</th> <td>    1.6477</td> <td>    0.033</td> <td>   49.933</td> <td> 0.000</td> <td>    1.583</td> <td>    1.712</td>\n",
       "</tr>\n",
       "<tr>\n",
       "  <th>ar.L2.D.#Passengers</th> <td>   -0.9094</td> <td>    0.033</td> <td>  -27.880</td> <td> 0.000</td> <td>   -0.973</td> <td>   -0.845</td>\n",
       "</tr>\n",
       "<tr>\n",
       "  <th>ma.L1.D.#Passengers</th> <td>   -1.9097</td> <td>    0.065</td> <td>  -29.503</td> <td> 0.000</td> <td>   -2.037</td> <td>   -1.783</td>\n",
       "</tr>\n",
       "<tr>\n",
       "  <th>ma.L2.D.#Passengers</th> <td>    0.9995</td> <td>    0.068</td> <td>   14.807</td> <td> 0.000</td> <td>    0.867</td> <td>    1.132</td>\n",
       "</tr>\n",
       "</table>\n",
       "<table class=\"simpletable\">\n",
       "<caption>Roots</caption>\n",
       "<tr>\n",
       "    <td></td>   <th>            Real</th>  <th>         Imaginary</th> <th>         Modulus</th>  <th>        Frequency</th>\n",
       "</tr>\n",
       "<tr>\n",
       "  <th>AR.1</th> <td>           0.9059</td> <td>          -0.5281j</td> <td>           1.0486</td> <td>          -0.0840</td>\n",
       "</tr>\n",
       "<tr>\n",
       "  <th>AR.2</th> <td>           0.9059</td> <td>          +0.5281j</td> <td>           1.0486</td> <td>           0.0840</td>\n",
       "</tr>\n",
       "<tr>\n",
       "  <th>MA.1</th> <td>           0.9553</td> <td>          -0.2965j</td> <td>           1.0002</td> <td>          -0.0479</td>\n",
       "</tr>\n",
       "<tr>\n",
       "  <th>MA.2</th> <td>           0.9553</td> <td>          +0.2965j</td> <td>           1.0002</td> <td>           0.0479</td>\n",
       "</tr>\n",
       "</table>"
      ],
      "text/plain": [
       "<class 'statsmodels.iolib.summary.Summary'>\n",
       "\"\"\"\n",
       "                             ARIMA Model Results                              \n",
       "==============================================================================\n",
       "Dep. Variable:          D.#Passengers   No. Observations:                  143\n",
       "Model:                 ARIMA(2, 1, 2)   Log Likelihood                -666.022\n",
       "Method:                       css-mle   S.D. of innovations             24.716\n",
       "Date:                Wed, 04 Dec 2019   AIC                           1344.043\n",
       "Time:                        20:53:56   BIC                           1361.821\n",
       "Sample:                    02-01-1949   HQIC                          1351.267\n",
       "                         - 12-01-1960                                         \n",
       "=======================================================================================\n",
       "                          coef    std err          z      P>|z|      [0.025      0.975]\n",
       "---------------------------------------------------------------------------------------\n",
       "const                   2.5311      0.708      3.574      0.000       1.143       3.919\n",
       "ar.L1.D.#Passengers     1.6477      0.033     49.933      0.000       1.583       1.712\n",
       "ar.L2.D.#Passengers    -0.9094      0.033    -27.880      0.000      -0.973      -0.845\n",
       "ma.L1.D.#Passengers    -1.9097      0.065    -29.503      0.000      -2.037      -1.783\n",
       "ma.L2.D.#Passengers     0.9995      0.068     14.807      0.000       0.867       1.132\n",
       "                                    Roots                                    \n",
       "=============================================================================\n",
       "                  Real          Imaginary           Modulus         Frequency\n",
       "-----------------------------------------------------------------------------\n",
       "AR.1            0.9059           -0.5281j            1.0486           -0.0840\n",
       "AR.2            0.9059           +0.5281j            1.0486            0.0840\n",
       "MA.1            0.9553           -0.2965j            1.0002           -0.0479\n",
       "MA.2            0.9553           +0.2965j            1.0002            0.0479\n",
       "-----------------------------------------------------------------------------\n",
       "\"\"\""
      ]
     },
     "execution_count": 7,
     "metadata": {},
     "output_type": "execute_result"
    }
   ],
   "source": [
    "modelo_treinado.summary()"
   ]
  },
  {
   "cell_type": "code",
   "execution_count": 8,
   "metadata": {},
   "outputs": [],
   "source": [
    "#steps = previsões\n",
    "previsoes = modelo_treinado.forecast(steps = 12)[0]"
   ]
  },
  {
   "cell_type": "code",
   "execution_count": 9,
   "metadata": {
    "scrolled": true
   },
   "outputs": [
    {
     "data": {
      "text/plain": [
       "array([433.13422182, 450.91903911, 479.85428659, 512.02032366,\n",
       "       539.36963887, 555.8442862 , 558.78084857, 549.29983462,\n",
       "       531.66962729, 511.90433422, 496.03186256, 488.51530253])"
      ]
     },
     "execution_count": 9,
     "metadata": {},
     "output_type": "execute_result"
    }
   ],
   "source": [
    "previsoes"
   ]
  },
  {
   "cell_type": "code",
   "execution_count": 10,
   "metadata": {},
   "outputs": [
    {
     "data": {
      "image/png": "[encoded data removed]",
      "text/plain": [
       "<Figure size 432x288 with 1 Axes>"
      ]
     },
     "execution_count": 10,
     "metadata": {},
     "output_type": "execute_result"
    },
    {
     "data": {
      "image/png": "[encoded data removed]",
      "text/plain": [
       "<Figure size 432x288 with 1 Axes>"
      ]
     },
     "metadata": {
      "needs_background": "light"
     },
     "output_type": "display_data"
    }
   ],
   "source": [
    "eixo = ts.plot()\n",
    "modelo_treinado.plot_predict('1960-01-01', '1962-01-01', ax = eixo\n",
    "                             , plot_insample= True)"
   ]
  },
  {
   "cell_type": "code",
   "execution_count": 11,
   "metadata": {},
   "outputs": [
    {
     "name": "stderr",
     "output_type": "stream",
     "text": [
      "/home/cleano/.local/lib/python3.6/site-packages/statsmodels/tsa/statespace/sarimax.py:981: UserWarning: Non-stationary starting seasonal autoregressive Using zeros as starting parameters.\n",
      "  warn('Non-stationary starting seasonal autoregressive'\n",
      "/home/cleano/.local/lib/python3.6/site-packages/statsmodels/base/model.py:512: ConvergenceWarning: Maximum Likelihood optimization failed to converge. Check mle_retvals\n",
      "  \"Check mle_retvals\", ConvergenceWarning)\n",
      "/home/cleano/.local/lib/python3.6/site-packages/statsmodels/tsa/statespace/sarimax.py:981: UserWarning: Non-stationary starting seasonal autoregressive Using zeros as starting parameters.\n",
      "  warn('Non-stationary starting seasonal autoregressive'\n"
     ]
    },
    {
     "name": "stdout",
     "output_type": "stream",
     "text": [
      "Fit ARIMA: order=(2, 1, 2) seasonal_order=(1, 0, 1, 12); AIC=1154.503, BIC=1178.206, Fit time=1.692 seconds\n",
      "Fit ARIMA: order=(0, 1, 0) seasonal_order=(0, 0, 0, 12); AIC=1415.278, BIC=1421.203, Fit time=0.010 seconds\n",
      "Fit ARIMA: order=(1, 1, 0) seasonal_order=(1, 0, 0, 12); AIC=1145.852, BIC=1157.703, Fit time=0.550 seconds\n",
      "Fit ARIMA: order=(0, 1, 1) seasonal_order=(0, 0, 1, 12); AIC=1299.259, BIC=1311.110, Fit time=0.474 seconds\n",
      "Fit ARIMA: order=(1, 1, 0) seasonal_order=(0, 0, 0, 12); AIC=1403.473, BIC=1412.361, Fit time=0.055 seconds\n"
     ]
    },
    {
     "name": "stderr",
     "output_type": "stream",
     "text": [
      "/home/cleano/.local/lib/python3.6/site-packages/statsmodels/tsa/statespace/sarimax.py:981: UserWarning: Non-stationary starting seasonal autoregressive Using zeros as starting parameters.\n",
      "  warn('Non-stationary starting seasonal autoregressive'\n"
     ]
    },
    {
     "name": "stdout",
     "output_type": "stream",
     "text": [
      "Fit ARIMA: order=(1, 1, 0) seasonal_order=(2, 0, 0, 12); AIC=1146.202, BIC=1161.016, Fit time=1.403 seconds\n"
     ]
    },
    {
     "name": "stderr",
     "output_type": "stream",
     "text": [
      "/home/cleano/.local/lib/python3.6/site-packages/statsmodels/tsa/statespace/sarimax.py:981: UserWarning: Non-stationary starting seasonal autoregressive Using zeros as starting parameters.\n",
      "  warn('Non-stationary starting seasonal autoregressive'\n"
     ]
    },
    {
     "name": "stdout",
     "output_type": "stream",
     "text": [
      "Fit ARIMA: order=(1, 1, 0) seasonal_order=(1, 0, 1, 12); AIC=1146.630, BIC=1161.444, Fit time=0.978 seconds\n"
     ]
    },
    {
     "name": "stderr",
     "output_type": "stream",
     "text": [
      "/home/cleano/.local/lib/python3.6/site-packages/statsmodels/tsa/statespace/sarimax.py:981: UserWarning: Non-stationary starting seasonal autoregressive Using zeros as starting parameters.\n",
      "  warn('Non-stationary starting seasonal autoregressive'\n"
     ]
    },
    {
     "name": "stdout",
     "output_type": "stream",
     "text": [
      "Fit ARIMA: order=(1, 1, 0) seasonal_order=(2, 0, 1, 12); AIC=1146.557, BIC=1164.334, Fit time=1.782 seconds\n"
     ]
    },
    {
     "name": "stderr",
     "output_type": "stream",
     "text": [
      "/home/cleano/.local/lib/python3.6/site-packages/statsmodels/tsa/statespace/sarimax.py:981: UserWarning: Non-stationary starting seasonal autoregressive Using zeros as starting parameters.\n",
      "  warn('Non-stationary starting seasonal autoregressive'\n"
     ]
    },
    {
     "name": "stdout",
     "output_type": "stream",
     "text": [
      "Fit ARIMA: order=(0, 1, 0) seasonal_order=(1, 0, 0, 12); AIC=1152.734, BIC=1161.623, Fit time=0.459 seconds\n"
     ]
    },
    {
     "name": "stderr",
     "output_type": "stream",
     "text": [
      "/home/cleano/.local/lib/python3.6/site-packages/statsmodels/tsa/statespace/sarimax.py:981: UserWarning: Non-stationary starting seasonal autoregressive Using zeros as starting parameters.\n",
      "  warn('Non-stationary starting seasonal autoregressive'\n"
     ]
    },
    {
     "name": "stdout",
     "output_type": "stream",
     "text": [
      "Fit ARIMA: order=(2, 1, 0) seasonal_order=(1, 0, 0, 12); AIC=1147.809, BIC=1162.624, Fit time=0.856 seconds\n"
     ]
    },
    {
     "name": "stderr",
     "output_type": "stream",
     "text": [
      "/home/cleano/.local/lib/python3.6/site-packages/statsmodels/tsa/statespace/sarimax.py:981: UserWarning: Non-stationary starting seasonal autoregressive Using zeros as starting parameters.\n",
      "  warn('Non-stationary starting seasonal autoregressive'\n",
      "/home/cleano/.local/lib/python3.6/site-packages/statsmodels/base/model.py:512: ConvergenceWarning: Maximum Likelihood optimization failed to converge. Check mle_retvals\n",
      "  \"Check mle_retvals\", ConvergenceWarning)\n",
      "/home/cleano/.local/lib/python3.6/site-packages/statsmodels/tsa/statespace/sarimax.py:981: UserWarning: Non-stationary starting seasonal autoregressive Using zeros as starting parameters.\n",
      "  warn('Non-stationary starting seasonal autoregressive'\n"
     ]
    },
    {
     "name": "stdout",
     "output_type": "stream",
     "text": [
      "Fit ARIMA: order=(1, 1, 1) seasonal_order=(1, 0, 0, 12); AIC=1137.810, BIC=1152.624, Fit time=1.211 seconds\n"
     ]
    },
    {
     "name": "stderr",
     "output_type": "stream",
     "text": [
      "/home/cleano/.local/lib/python3.6/site-packages/statsmodels/base/model.py:512: ConvergenceWarning: Maximum Likelihood optimization failed to converge. Check mle_retvals\n",
      "  \"Check mle_retvals\", ConvergenceWarning)\n",
      "/home/cleano/.local/lib/python3.6/site-packages/statsmodels/tsa/statespace/sarimax.py:981: UserWarning: Non-stationary starting seasonal autoregressive Using zeros as starting parameters.\n",
      "  warn('Non-stationary starting seasonal autoregressive'\n"
     ]
    },
    {
     "name": "stdout",
     "output_type": "stream",
     "text": [
      "Fit ARIMA: order=(2, 1, 2) seasonal_order=(1, 0, 0, 12); AIC=1142.341, BIC=1163.081, Fit time=1.989 seconds\n",
      "Fit ARIMA: order=(1, 1, 1) seasonal_order=(0, 0, 0, 12); AIC=1396.121, BIC=1407.972, Fit time=0.153 seconds\n"
     ]
    },
    {
     "name": "stderr",
     "output_type": "stream",
     "text": [
      "/home/cleano/.local/lib/python3.6/site-packages/statsmodels/base/model.py:512: ConvergenceWarning: Maximum Likelihood optimization failed to converge. Check mle_retvals\n",
      "  \"Check mle_retvals\", ConvergenceWarning)\n",
      "/home/cleano/.local/lib/python3.6/site-packages/statsmodels/tsa/statespace/sarimax.py:981: UserWarning: Non-stationary starting seasonal autoregressive Using zeros as starting parameters.\n",
      "  warn('Non-stationary starting seasonal autoregressive'\n"
     ]
    },
    {
     "name": "stdout",
     "output_type": "stream",
     "text": [
      "Fit ARIMA: order=(1, 1, 1) seasonal_order=(2, 0, 0, 12); AIC=1138.335, BIC=1156.112, Fit time=2.601 seconds\n",
      "Fit ARIMA: order=(1, 1, 1) seasonal_order=(1, 0, 1, 12); AIC=1148.607, BIC=1166.384, Fit time=1.019 seconds\n"
     ]
    },
    {
     "name": "stderr",
     "output_type": "stream",
     "text": [
      "/home/cleano/.local/lib/python3.6/site-packages/statsmodels/tsa/statespace/sarimax.py:981: UserWarning: Non-stationary starting seasonal autoregressive Using zeros as starting parameters.\n",
      "  warn('Non-stationary starting seasonal autoregressive'\n",
      "/home/cleano/.local/lib/python3.6/site-packages/statsmodels/base/model.py:512: ConvergenceWarning: Maximum Likelihood optimization failed to converge. Check mle_retvals\n",
      "  \"Check mle_retvals\", ConvergenceWarning)\n",
      "/home/cleano/.local/lib/python3.6/site-packages/statsmodels/tsa/statespace/sarimax.py:981: UserWarning: Non-stationary starting seasonal autoregressive Using zeros as starting parameters.\n",
      "  warn('Non-stationary starting seasonal autoregressive'\n"
     ]
    },
    {
     "name": "stdout",
     "output_type": "stream",
     "text": [
      "Fit ARIMA: order=(1, 1, 1) seasonal_order=(2, 0, 1, 12); AIC=1147.593, BIC=1168.333, Fit time=3.691 seconds\n",
      "Fit ARIMA: order=(0, 1, 1) seasonal_order=(1, 0, 0, 12); AIC=1146.153, BIC=1158.004, Fit time=0.766 seconds\n"
     ]
    },
    {
     "name": "stderr",
     "output_type": "stream",
     "text": [
      "/home/cleano/.local/lib/python3.6/site-packages/statsmodels/tsa/statespace/sarimax.py:981: UserWarning: Non-stationary starting seasonal autoregressive Using zeros as starting parameters.\n",
      "  warn('Non-stationary starting seasonal autoregressive'\n"
     ]
    },
    {
     "name": "stdout",
     "output_type": "stream",
     "text": [
      "Fit ARIMA: order=(2, 1, 1) seasonal_order=(1, 0, 0, 12); AIC=1142.509, BIC=1160.287, Fit time=1.378 seconds\n"
     ]
    },
    {
     "name": "stderr",
     "output_type": "stream",
     "text": [
      "/home/cleano/.local/lib/python3.6/site-packages/statsmodels/tsa/statespace/sarimax.py:981: UserWarning: Non-stationary starting seasonal autoregressive Using zeros as starting parameters.\n",
      "  warn('Non-stationary starting seasonal autoregressive'\n"
     ]
    },
    {
     "name": "stdout",
     "output_type": "stream",
     "text": [
      "Fit ARIMA: order=(1, 1, 2) seasonal_order=(1, 0, 0, 12); AIC=1144.209, BIC=1161.986, Fit time=1.457 seconds\n",
      "Total fit time: 22.550 seconds\n"
     ]
    }
   ],
   "source": [
    "modelo_auto = auto_arima(ts, m = 12, sesonal = True, trace = True)"
   ]
  },
  {
   "cell_type": "code",
   "execution_count": 12,
   "metadata": {},
   "outputs": [
    {
     "data": {
      "text/html": [
       "<table class=\"simpletable\">\n",
       "<caption>Statespace Model Results</caption>\n",
       "<tr>\n",
       "  <th>Dep. Variable:</th>                  <td>y</td>               <th>  No. Observations:  </th>    <td>144</td>  \n",
       "</tr>\n",
       "<tr>\n",
       "  <th>Model:</th>           <td>SARIMAX(1, 1, 1)x(1, 0, 0, 12)</td> <th>  Log Likelihood     </th> <td>-563.905</td>\n",
       "</tr>\n",
       "<tr>\n",
       "  <th>Date:</th>                   <td>Wed, 04 Dec 2019</td>        <th>  AIC                </th> <td>1137.810</td>\n",
       "</tr>\n",
       "<tr>\n",
       "  <th>Time:</th>                       <td>20:55:14</td>            <th>  BIC                </th> <td>1152.624</td>\n",
       "</tr>\n",
       "<tr>\n",
       "  <th>Sample:</th>                         <td>0</td>               <th>  HQIC               </th> <td>1143.829</td>\n",
       "</tr>\n",
       "<tr>\n",
       "  <th></th>                             <td> - 144</td>             <th>                     </th>     <td> </td>   \n",
       "</tr>\n",
       "<tr>\n",
       "  <th>Covariance Type:</th>               <td>opg</td>              <th>                     </th>     <td> </td>   \n",
       "</tr>\n",
       "</table>\n",
       "<table class=\"simpletable\">\n",
       "<tr>\n",
       "      <td></td>         <th>coef</th>     <th>std err</th>      <th>z</th>      <th>P>|z|</th>  <th>[0.025</th>    <th>0.975]</th>  \n",
       "</tr>\n",
       "<tr>\n",
       "  <th>intercept</th> <td>    0.0324</td> <td>    0.018</td> <td>    1.822</td> <td> 0.069</td> <td>   -0.002</td> <td>    0.067</td>\n",
       "</tr>\n",
       "<tr>\n",
       "  <th>ar.L1</th>     <td>    0.7660</td> <td>    0.070</td> <td>   10.944</td> <td> 0.000</td> <td>    0.629</td> <td>    0.903</td>\n",
       "</tr>\n",
       "<tr>\n",
       "  <th>ma.L1</th>     <td>   -0.9997</td> <td>    0.288</td> <td>   -3.474</td> <td> 0.001</td> <td>   -1.564</td> <td>   -0.436</td>\n",
       "</tr>\n",
       "<tr>\n",
       "  <th>ar.S.L12</th>  <td>    0.9464</td> <td>    0.024</td> <td>   39.226</td> <td> 0.000</td> <td>    0.899</td> <td>    0.994</td>\n",
       "</tr>\n",
       "<tr>\n",
       "  <th>sigma2</th>    <td>  130.6322</td> <td>   34.309</td> <td>    3.807</td> <td> 0.000</td> <td>   63.387</td> <td>  197.877</td>\n",
       "</tr>\n",
       "</table>\n",
       "<table class=\"simpletable\">\n",
       "<tr>\n",
       "  <th>Ljung-Box (Q):</th>          <td>56.91</td> <th>  Jarque-Bera (JB):  </th> <td>23.90</td>\n",
       "</tr>\n",
       "<tr>\n",
       "  <th>Prob(Q):</th>                <td>0.04</td>  <th>  Prob(JB):          </th> <td>0.00</td> \n",
       "</tr>\n",
       "<tr>\n",
       "  <th>Heteroskedasticity (H):</th> <td>3.36</td>  <th>  Skew:              </th> <td>0.37</td> \n",
       "</tr>\n",
       "<tr>\n",
       "  <th>Prob(H) (two-sided):</th>    <td>0.00</td>  <th>  Kurtosis:          </th> <td>4.86</td> \n",
       "</tr>\n",
       "</table><br/><br/>Warnings:<br/>[1] Covariance matrix calculated using the outer product of gradients (complex-step)."
      ],
      "text/plain": [
       "<class 'statsmodels.iolib.summary.Summary'>\n",
       "\"\"\"\n",
       "                                 Statespace Model Results                                 \n",
       "==========================================================================================\n",
       "Dep. Variable:                                  y   No. Observations:                  144\n",
       "Model:             SARIMAX(1, 1, 1)x(1, 0, 0, 12)   Log Likelihood                -563.905\n",
       "Date:                            Wed, 04 Dec 2019   AIC                           1137.810\n",
       "Time:                                    20:55:14   BIC                           1152.624\n",
       "Sample:                                         0   HQIC                          1143.829\n",
       "                                            - 144                                         \n",
       "Covariance Type:                              opg                                         \n",
       "==============================================================================\n",
       "                 coef    std err          z      P>|z|      [0.025      0.975]\n",
       "------------------------------------------------------------------------------\n",
       "intercept      0.0324      0.018      1.822      0.069      -0.002       0.067\n",
       "ar.L1          0.7660      0.070     10.944      0.000       0.629       0.903\n",
       "ma.L1         -0.9997      0.288     -3.474      0.001      -1.564      -0.436\n",
       "ar.S.L12       0.9464      0.024     39.226      0.000       0.899       0.994\n",
       "sigma2       130.6322     34.309      3.807      0.000      63.387     197.877\n",
       "===================================================================================\n",
       "Ljung-Box (Q):                       56.91   Jarque-Bera (JB):                23.90\n",
       "Prob(Q):                              0.04   Prob(JB):                         0.00\n",
       "Heteroskedasticity (H):               3.36   Skew:                             0.37\n",
       "Prob(H) (two-sided):                  0.00   Kurtosis:                         4.86\n",
       "===================================================================================\n",
       "\n",
       "Warnings:\n",
       "[1] Covariance matrix calculated using the outer product of gradients (complex-step).\n",
       "\"\"\""
      ]
     },
     "execution_count": 12,
     "metadata": {},
     "output_type": "execute_result"
    }
   ],
   "source": [
    "modelo_auto.summary()"
   ]
  },
  {
   "cell_type": "code",
   "execution_count": 14,
   "metadata": {},
   "outputs": [],
   "source": [
    "proximos_12 = modelo_auto.predict(n_periods = 12)"
   ]
  },
  {
   "cell_type": "code",
   "execution_count": 15,
   "metadata": {},
   "outputs": [
    {
     "data": {
      "text/plain": [
       "array([445.0273615 , 421.73273651, 449.26972042, 489.8461341 ,\n",
       "       500.92271939, 561.08922258, 643.87503002, 629.10815475,\n",
       "       536.68015674, 492.47658345, 425.5266068 , 465.49605239])"
      ]
     },
     "execution_count": 15,
     "metadata": {},
     "output_type": "execute_result"
    }
   ],
   "source": [
    "proximos_12"
   ]
  },
  {
   "cell_type": "code",
   "execution_count": null,
   "metadata": {},
   "outputs": [],
   "source": []
  }
 ],
 "metadata": {
  "kernelspec": {
   "display_name": "Python 3",
   "language": "python",
   "name": "python3"
  },
  "language_info": {
   "codemirror_mode": {
    "name": "ipython",
    "version": 3
   },
   "file_extension": ".py",
   "mimetype": "text/x-python",
   "name": "python",
   "nbconvert_exporter": "python",
   "pygments_lexer": "ipython3",
   "version": "3.6.8"
  }
 },
 "nbformat": 4,
 "nbformat_minor": 2
}
