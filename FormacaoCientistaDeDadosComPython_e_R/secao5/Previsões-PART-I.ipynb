{
 "cells": [
  {
   "cell_type": "code",
   "execution_count": 5,
   "metadata": {},
   "outputs": [],
   "source": [
    "import pandas as pd\n",
    "import numpy as np\n",
    "import matplotlib.pylab as plt\n"
   ]
  },
  {
   "cell_type": "code",
   "execution_count": 2,
   "metadata": {},
   "outputs": [],
   "source": [
    "base =  pd.read_csv(\"AirPassengers.csv\")"
   ]
  },
  {
   "cell_type": "code",
   "execution_count": 3,
   "metadata": {},
   "outputs": [
    {
     "data": {
      "text/html": [
       "<div>\n",
       "<style scoped>\n",
       "    .dataframe tbody tr th:only-of-type {\n",
       "        vertical-align: middle;\n",
       "    }\n",
       "\n",
       "    .dataframe tbody tr th {\n",
       "        vertical-align: top;\n",
       "    }\n",
       "\n",
       "    .dataframe thead th {\n",
       "        text-align: right;\n",
       "    }\n",
       "</style>\n",
       "<table border=\"1\" class=\"dataframe\">\n",
       "  <thead>\n",
       "    <tr style=\"text-align: right;\">\n",
       "      <th></th>\n",
       "      <th>Month</th>\n",
       "      <th>#Passengers</th>\n",
       "    </tr>\n",
       "  </thead>\n",
       "  <tbody>\n",
       "    <tr>\n",
       "      <th>0</th>\n",
       "      <td>1949-01</td>\n",
       "      <td>112</td>\n",
       "    </tr>\n",
       "    <tr>\n",
       "      <th>1</th>\n",
       "      <td>1949-02</td>\n",
       "      <td>118</td>\n",
       "    </tr>\n",
       "    <tr>\n",
       "      <th>2</th>\n",
       "      <td>1949-03</td>\n",
       "      <td>132</td>\n",
       "    </tr>\n",
       "    <tr>\n",
       "      <th>3</th>\n",
       "      <td>1949-04</td>\n",
       "      <td>129</td>\n",
       "    </tr>\n",
       "    <tr>\n",
       "      <th>4</th>\n",
       "      <td>1949-05</td>\n",
       "      <td>121</td>\n",
       "    </tr>\n",
       "  </tbody>\n",
       "</table>\n",
       "</div>"
      ],
      "text/plain": [
       "     Month  #Passengers\n",
       "0  1949-01          112\n",
       "1  1949-02          118\n",
       "2  1949-03          132\n",
       "3  1949-04          129\n",
       "4  1949-05          121"
      ]
     },
     "execution_count": 3,
     "metadata": {},
     "output_type": "execute_result"
    }
   ],
   "source": [
    "base.head(5)"
   ]
  },
  {
   "cell_type": "code",
   "execution_count": 4,
   "metadata": {},
   "outputs": [
    {
     "data": {
      "text/plain": [
       "Month          object\n",
       "#Passengers     int64\n",
       "dtype: object"
      ]
     },
     "execution_count": 4,
     "metadata": {},
     "output_type": "execute_result"
    }
   ],
   "source": [
    "base.dtypes"
   ]
  },
  {
   "cell_type": "code",
   "execution_count": 6,
   "metadata": {},
   "outputs": [],
   "source": [
    "dateParse = lambda dates : pd.datetime.strptime(dates, '%Y-%m')\n",
    "base = pd.read_csv('AirPassengers.csv', parse_dates = [\"Month\"], \n",
    "                   index_col= \"Month\", date_parser= dateParse)"
   ]
  },
  {
   "cell_type": "code",
   "execution_count": 7,
   "metadata": {},
   "outputs": [],
   "source": [
    "#serie temporal\n",
    "ts = base['#Passengers']"
   ]
  },
  {
   "cell_type": "code",
   "execution_count": 8,
   "metadata": {},
   "outputs": [
    {
     "name": "stderr",
     "output_type": "stream",
     "text": [
      "/home/cleano/.local/lib/python3.6/site-packages/pandas/plotting/_converter.py:129: FutureWarning: Using an implicitly registered datetime converter for a matplotlib plotting method. The converter was registered by pandas on import. Future versions of pandas will require you to explicitly register matplotlib converters.\n",
      "\n",
      "To register the converters:\n",
      "\t>>> from pandas.plotting import register_matplotlib_converters\n",
      "\t>>> register_matplotlib_converters()\n",
      "  warnings.warn(msg, FutureWarning)\n"
     ]
    },
    {
     "data": {
      "text/plain": [
       "[<matplotlib.lines.Line2D at 0x7f13bc667c18>]"
      ]
     },
     "execution_count": 8,
     "metadata": {},
     "output_type": "execute_result"
    },
    {
     "data": {
      "image/png": "[encoded data removed]",
      "text/plain": [
       "<Figure size 432x288 with 1 Axes>"
      ]
     },
     "metadata": {
      "needs_background": "light"
     },
     "output_type": "display_data"
    }
   ],
   "source": [
    "plt.plot(ts)"
   ]
  },
  {
   "cell_type": "code",
   "execution_count": 9,
   "metadata": {},
   "outputs": [
    {
     "data": {
      "text/plain": [
       "280.2986111111111"
      ]
     },
     "execution_count": 9,
     "metadata": {},
     "output_type": "execute_result"
    }
   ],
   "source": [
    "#tipo de previsão com média\n",
    "ts.mean()\n"
   ]
  },
  {
   "cell_type": "code",
   "execution_count": 10,
   "metadata": {},
   "outputs": [
    {
     "data": {
      "text/plain": [
       "476.1666666666667"
      ]
     },
     "execution_count": 10,
     "metadata": {},
     "output_type": "execute_result"
    }
   ],
   "source": [
    "#tipo de previsão com media com um conjunto de dados\n",
    "ts['1960-01-01' : '1960-12-01'].mean()"
   ]
  },
  {
   "cell_type": "code",
   "execution_count": 18,
   "metadata": {},
   "outputs": [],
   "source": [
    "#window = quantas datas anteriores \n",
    "\n",
    "media_movel = ts.rolling(window = 12).mean()"
   ]
  },
  {
   "cell_type": "code",
   "execution_count": 16,
   "metadata": {
    "scrolled": true
   },
   "outputs": [
    {
     "data": {
      "text/plain": [
       "Month\n",
       "1949-01-01      NaN\n",
       "1949-02-01    115.0\n",
       "1949-03-01    125.0\n",
       "1949-04-01    130.5\n",
       "1949-05-01    125.0\n",
       "1949-06-01    128.0\n",
       "1949-07-01    141.5\n",
       "1949-08-01    148.0\n",
       "1949-09-01    142.0\n",
       "1949-10-01    127.5\n",
       "1949-11-01    111.5\n",
       "1949-12-01    111.0\n",
       "1950-01-01    116.5\n",
       "1950-02-01    120.5\n",
       "1950-03-01    133.5\n",
       "1950-04-01    138.0\n",
       "1950-05-01    130.0\n",
       "1950-06-01    137.0\n",
       "1950-07-01    159.5\n",
       "1950-08-01    170.0\n",
       "1950-09-01    164.0\n",
       "1950-10-01    145.5\n",
       "1950-11-01    123.5\n",
       "1950-12-01    127.0\n",
       "1951-01-01    142.5\n",
       "1951-02-01    147.5\n",
       "1951-03-01    164.0\n",
       "1951-04-01    170.5\n",
       "1951-05-01    167.5\n",
       "1951-06-01    175.0\n",
       "              ...  \n",
       "1958-07-01    463.0\n",
       "1958-08-01    498.0\n",
       "1958-09-01    454.5\n",
       "1958-10-01    381.5\n",
       "1958-11-01    334.5\n",
       "1958-12-01    323.5\n",
       "1959-01-01    348.5\n",
       "1959-02-01    351.0\n",
       "1959-03-01    374.0\n",
       "1959-04-01    401.0\n",
       "1959-05-01    408.0\n",
       "1959-06-01    446.0\n",
       "1959-07-01    510.0\n",
       "1959-08-01    553.5\n",
       "1959-09-01    511.0\n",
       "1959-10-01    435.0\n",
       "1959-11-01    384.5\n",
       "1959-12-01    383.5\n",
       "1960-01-01    411.0\n",
       "1960-02-01    404.0\n",
       "1960-03-01    405.0\n",
       "1960-04-01    440.0\n",
       "1960-05-01    466.5\n",
       "1960-06-01    503.5\n",
       "1960-07-01    578.5\n",
       "1960-08-01    614.0\n",
       "1960-09-01    557.0\n",
       "1960-10-01    484.5\n",
       "1960-11-01    425.5\n",
       "1960-12-01    411.0\n",
       "Name: #Passengers, Length: 144, dtype: float64"
      ]
     },
     "execution_count": 16,
     "metadata": {},
     "output_type": "execute_result"
    }
   ],
   "source": [
    "media_movel"
   ]
  },
  {
   "cell_type": "code",
   "execution_count": 13,
   "metadata": {},
   "outputs": [
    {
     "data": {
      "text/plain": [
       "126.66666666666667"
      ]
     },
     "execution_count": 13,
     "metadata": {},
     "output_type": "execute_result"
    }
   ],
   "source": [
    "ts[0:12].mean()"
   ]
  },
  {
   "cell_type": "code",
   "execution_count": 14,
   "metadata": {},
   "outputs": [
    {
     "data": {
      "text/plain": [
       "126.91666666666667"
      ]
     },
     "execution_count": 14,
     "metadata": {},
     "output_type": "execute_result"
    }
   ],
   "source": [
    "ts[1:13].mean()"
   ]
  },
  {
   "cell_type": "code",
   "execution_count": 19,
   "metadata": {},
   "outputs": [
    {
     "data": {
      "text/plain": [
       "[<matplotlib.lines.Line2D at 0x7f13b485eb38>]"
      ]
     },
     "execution_count": 19,
     "metadata": {},
     "output_type": "execute_result"
    },
    {
     "data": {
      "image/png": "[encoded data removed]",
      "text/plain": [
       "<Figure size 432x288 with 1 Axes>"
      ]
     },
     "metadata": {
      "needs_background": "light"
     },
     "output_type": "display_data"
    }
   ],
   "source": [
    "plt.plot(ts)\n",
    "plt.plot(media_movel, color='red')"
   ]
  },
  {
   "cell_type": "markdown",
   "metadata": {},
   "source": [
    "# VAMOS FAZER UMA PREVISÃO DAS PROXIMAS DATAS (12 MESES)"
   ]
  },
  {
   "cell_type": "code",
   "execution_count": 20,
   "metadata": {
    "scrolled": true
   },
   "outputs": [
    {
     "name": "stdout",
     "output_type": "stream",
     "text": [
      "132\n",
      "143\n",
      "-----\n",
      "131\n",
      "142\n",
      "-----\n",
      "130\n",
      "141\n",
      "-----\n",
      "129\n",
      "140\n",
      "-----\n",
      "128\n",
      "139\n",
      "-----\n",
      "127\n",
      "138\n",
      "-----\n",
      "126\n",
      "137\n",
      "-----\n",
      "125\n",
      "136\n",
      "-----\n",
      "124\n",
      "135\n",
      "-----\n",
      "123\n",
      "134\n",
      "-----\n",
      "122\n",
      "133\n",
      "-----\n",
      "121\n",
      "132\n",
      "-----\n"
     ]
    }
   ],
   "source": [
    "previsoes=[]\n",
    "\n",
    "for i in range(1, 13):\n",
    "    \n",
    "    superior = len(media_movel) - i\n",
    "    inferior = superior - 11\n",
    "    print(inferior)\n",
    "    print(superior)\n",
    "    print('-----')"
   ]
  },
  {
   "cell_type": "code",
   "execution_count": 21,
   "metadata": {},
   "outputs": [],
   "source": [
    "\n",
    "for i in range(1, 13):\n",
    "    \n",
    "    superior = len(media_movel) - i\n",
    "    inferior = superior - 11\n",
    "    previsoes.append(media_movel[inferior:superior].mean())"
   ]
  },
  {
   "cell_type": "code",
   "execution_count": 22,
   "metadata": {
    "scrolled": true
   },
   "outputs": [
    {
     "data": {
      "text/plain": [
       "[453.52272727272737,\n",
       " 449.37878787878793,\n",
       " 444.9318181818182,\n",
       " 440.5,\n",
       " 436.04545454545456,\n",
       " 431.5,\n",
       " 427.1060606060606,\n",
       " 422.75757575757575,\n",
       " 418.52272727272725,\n",
       " 414.34848484848493,\n",
       " 409.90909090909093,\n",
       " 405.50757575757575]"
      ]
     },
     "execution_count": 22,
     "metadata": {},
     "output_type": "execute_result"
    }
   ],
   "source": [
    "previsoes"
   ]
  },
  {
   "cell_type": "code",
   "execution_count": 24,
   "metadata": {},
   "outputs": [],
   "source": [
    "previsoes = previsoes[:: -1]"
   ]
  },
  {
   "cell_type": "code",
   "execution_count": 25,
   "metadata": {},
   "outputs": [
    {
     "data": {
      "text/plain": [
       "[405.50757575757575,\n",
       " 409.90909090909093,\n",
       " 414.34848484848493,\n",
       " 418.52272727272725,\n",
       " 422.75757575757575,\n",
       " 427.1060606060606,\n",
       " 431.5,\n",
       " 436.04545454545456,\n",
       " 440.5,\n",
       " 444.9318181818182,\n",
       " 449.37878787878793,\n",
       " 453.52272727272737]"
      ]
     },
     "execution_count": 25,
     "metadata": {},
     "output_type": "execute_result"
    }
   ],
   "source": [
    "previsoes"
   ]
  },
  {
   "cell_type": "code",
   "execution_count": 26,
   "metadata": {},
   "outputs": [
    {
     "data": {
      "text/plain": [
       "[<matplotlib.lines.Line2D at 0x7f13b45437b8>]"
      ]
     },
     "execution_count": 26,
     "metadata": {},
     "output_type": "execute_result"
    },
    {
     "data": {
      "image/png": "[encoded data removed]",
      "text/plain": [
       "<Figure size 432x288 with 1 Axes>"
      ]
     },
     "metadata": {
      "needs_background": "light"
     },
     "output_type": "display_data"
    }
   ],
   "source": [
    "plt.plot(previsoes)"
   ]
  },
  {
   "cell_type": "code",
   "execution_count": null,
   "metadata": {},
   "outputs": [],
   "source": []
  }
 ],
 "metadata": {
  "kernelspec": {
   "display_name": "Python 3",
   "language": "python",
   "name": "python3"
  },
  "language_info": {
   "codemirror_mode": {
    "name": "ipython",
    "version": 3
   },
   "file_extension": ".py",
   "mimetype": "text/x-python",
   "name": "python",
   "nbconvert_exporter": "python",
   "pygments_lexer": "ipython3",
   "version": "3.6.8"
  }
 },
 "nbformat": 4,
 "nbformat_minor": 2
}
